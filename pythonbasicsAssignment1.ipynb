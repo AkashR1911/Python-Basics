{
  "nbformat": 4,
  "nbformat_minor": 0,
  "metadata": {
    "colab": {
      "provenance": []
    },
    "kernelspec": {
      "name": "python3",
      "display_name": "Python 3"
    },
    "language_info": {
      "name": "python"
    }
  },
  "cells": [
    {
      "cell_type": "code",
      "execution_count": null,
      "metadata": {
        "id": "J3kZFwGzjNTb"
      },
      "outputs": [],
      "source": [
        "# PYTHON BASICS\n",
        "\"\"\"\n",
        "1. What is Python, and why is it popular\n",
        "   - Python is interpreted(code is executed line by line) programming language\n",
        "     which is easily readable and understandable.\n",
        "     it is popular due to various reasons\n",
        "     * has multiple librairies (numpy, pandas, matplotlib etc) which makes coding\n",
        "       easier it also have various kinds of framework (Django)\n",
        "     *It is a versitile language(means can be used for data science, web developement, Automation)\n",
        "     * easy syntax which is good for beginners to learn\n",
        "2. What is an interpreter in Python\n",
        "   - Interpreter refers to executing code line by line which means in tranlates\n",
        "     it to machine code whereas in c/c++ it reads whole code and then translates\n",
        "     it to machine code and then executes it. Interpreter helps in telling error\n",
        "     easily since the code is executed line by line.\n",
        "3. What are pre-defined keywords in Python\n",
        "   - pre - defined keyword means which are reserved and can't be used as variable\n",
        "     name or function name.(if,else,while,import)\n",
        "4. Can keywords be used as variable names\n",
        "   - No , keywords can't be used/declared as variable name. If we do so we will\n",
        "     run into a syntax error.\n",
        "5. What is mutability in Python\n",
        "   - Mutalibity states that we can make changes in the data set but it should be only\n",
        "    (List,set)\n",
        "6. Why are lists mutable, but tuples are immutable\n",
        "   - List is muttable because is is created for random collection (it is dynamic) whereas the\n",
        "     tuple is created to store fix values or facts and which is only read only values\n",
        "7. What is the difference between “==” and “is” operators in Python\n",
        "   - \"==\" is used to check the equalities between to inputs\n",
        "    (a = [\"Akash\"]\n",
        "     b = [\"Akash\"]\n",
        "     print(a == b)  # True (values are equal)\n",
        "     print(a is b)  # False (different memory locations) # this statement can only\n",
        "     turn to true when we also assign b as a because then it will have same memory allocation )\n",
        "8. What are logical operators in Python\n",
        "   - Logical operators are and,or,not ('and' returns true when both operands are true,\n",
        "     'or' returns true when one operands is true, 'not' returns true when the operands are false. )\n",
        "9. What is type casting in Python\n",
        "  - type casting refers to converting one data type to another data type.(int to float)\n",
        "10. What is the difference between implicit and explicit type casting\n",
        "    - implicit type casting pythons converts it automatically\n",
        "     # Implicit Casting\n",
        "     num_int = 10\n",
        "     num_float = 5.5\n",
        "     result = num_int + num_float  # 15.5 (int to float automatically)\n",
        "\n",
        "     # Explicit Casting\n",
        "     num_str = \"100\"\n",
        "     num_int = int(num_str) # manual conversion of string to int\n",
        "11. What is the purpose of conditional statements in Python\n",
        "    -purpose of condtional statement is when we have multiple condtitions to execcute\n",
        "     where either one is true or false (it can be perfomed using if,else,elif)\n",
        "12. How does the elif statement work\n",
        "    -eilf staemnet works when if condtion is turned to be false and it is used\n",
        "     to when we have multiple condtions to execcute\n",
        "     where either one is true or false (it can be perfomed using if,else,elif)\n",
        "     age = 18\n",
        "      if age < 18:\n",
        "       print(\"Minor\")\n",
        "      elif age == 18:\n",
        "       print(\"Exactly 18\")\n",
        "      else:\n",
        "       print(\"Adult\")\n",
        "13. What is the difference between for and while loops\n",
        "    - for loop is used for a sequence or a fixed condition\n",
        "      whereas while loop is used to execute a set of statements as long as a condition is true.\n",
        "14. Describe a scenario where a while loop is more suitable than a for loop.\n",
        "    - while loop is suitable for asking otp, password , Atm pin it will keep\n",
        "      asking until or unless a user enters the correct otp or password\n",
        "      and in for loop it will allow us for limited attempt (which is great for security purpose)\n",
        "\"\"\""
      ]
    },
    {
      "cell_type": "code",
      "source": [
        "#1. Write a Python program to print \"Hello, World!\"\n",
        "#2. Write a Python program that displays your name and age\n",
        "#3. Write code to print all the pre-defined keywords in Python using the keyword library\n",
        "#4. Write a program that checks if a given word is a Python keyword\n",
        "#5. Create a list and tuple in Python, and demonstrate how attempting to change an element works differently for each\n",
        "#6. Write a function to demonstrate the behavior of mutable and immutable arguments\n",
        "#7. Write a function to demonstrate the behavior of mutable and immutable arguments\n",
        "#8. Write a program to demonstrate the use of logical operators\n",
        "#9. Write a Python program to convert user input from string to integer, float, and boolean types\n",
        "#10.Write code to demonstrate type casting with list elements\n",
        "#11.Write a program that checks if a number is positive, negative, or zero\n",
        "#12.Write a for loop to print numbers from 1 to 100\n",
        "#13.Write a Python program to find the sum of all even numbers between 1 and 500\n",
        "#14.Write a program to reverse a string using a while loop\n",
        "#15.Write a Python program to calculate the factorial of a number provided by the user using a while loop"
      ],
      "metadata": {
        "id": "5p4zfH2Luysk"
      },
      "execution_count": null,
      "outputs": []
    },
    {
      "cell_type": "code",
      "source": [
        "#1. Write a Python program to print \"Hello, World!\"\n",
        "print(\"Hello,world!\")"
      ],
      "metadata": {
        "id": "bMovi7jl48NN",
        "colab": {
          "base_uri": "https://localhost:8080/"
        },
        "outputId": "a4bf4d12-9fc5-48a7-bd45-08cab943c0ee"
      },
      "execution_count": null,
      "outputs": [
        {
          "output_type": "stream",
          "name": "stdout",
          "text": [
            "Hello,world!\n"
          ]
        }
      ]
    },
    {
      "cell_type": "code",
      "source": [
        "#2. Write a Python program that displays your name and age\n",
        "name = \"Akash Rawat\"\n",
        "age = \"22\"\n",
        "print(\"My name is\",name)\n",
        "print (\"My age is\",age)"
      ],
      "metadata": {
        "colab": {
          "base_uri": "https://localhost:8080/"
        },
        "id": "65WOe30iriSm",
        "outputId": "7f22dc31-bb1a-4344-c170-87826c0ec1e3"
      },
      "execution_count": null,
      "outputs": [
        {
          "output_type": "stream",
          "name": "stdout",
          "text": [
            "My name is Akash Rawat\n",
            "My age is 22\n"
          ]
        }
      ]
    },
    {
      "cell_type": "code",
      "source": [
        "#3. Write code to print all the pre-defined keywords in Python using the keyword library\n",
        "import keyword\n",
        "print(keyword.kwlist)\n"
      ],
      "metadata": {
        "colab": {
          "base_uri": "https://localhost:8080/"
        },
        "id": "UFi1Ej2Hu45T",
        "outputId": "2a878b99-9f6b-4a62-d91f-b12c3f07b466"
      },
      "execution_count": null,
      "outputs": [
        {
          "output_type": "stream",
          "name": "stdout",
          "text": [
            "['False', 'None', 'True', 'and', 'as', 'assert', 'async', 'await', 'break', 'class', 'continue', 'def', 'del', 'elif', 'else', 'except', 'finally', 'for', 'from', 'global', 'if', 'import', 'in', 'is', 'lambda', 'nonlocal', 'not', 'or', 'pass', 'raise', 'return', 'try', 'while', 'with', 'yield']\n"
          ]
        }
      ]
    },
    {
      "cell_type": "code",
      "source": [
        "#4. Write a program that checks if a given word is a Python keyword\n",
        "word = input(\"Please enter a word\")\n",
        "if keyword.iskeyword(word):\n",
        " print(word,\"is a keyword\")\n",
        "else:\n",
        "  print(word,\"is not a keyword\")"
      ],
      "metadata": {
        "colab": {
          "base_uri": "https://localhost:8080/"
        },
        "id": "3q53PNfYvEFo",
        "outputId": "0d84c317-a12c-4c17-eaf6-9eba0693490f"
      },
      "execution_count": null,
      "outputs": [
        {
          "output_type": "stream",
          "name": "stdout",
          "text": [
            "Please enter a wordAkash\n",
            "Akash is not a keyword\n"
          ]
        }
      ]
    },
    {
      "cell_type": "code",
      "source": [
        "#5. Create a list and tuple in Python, and demonstrate how attempting to change an element works differently for each\n",
        "List=[1,\"akash\",3]\n",
        "Tuple=(1,2,3)\n",
        "List[1]= 2\n",
        "print(\"muttable list\",List)\n",
        "try:\n",
        "    Tuple[0] = 10\n",
        "except TypeError as e:\n",
        "    print(\"Error modifying tuple:\", e)\n",
        "\n"
      ],
      "metadata": {
        "colab": {
          "base_uri": "https://localhost:8080/"
        },
        "id": "Vut30t8IxO-2",
        "outputId": "b054a92a-cdf7-4c18-a192-3b286479ef54"
      },
      "execution_count": null,
      "outputs": [
        {
          "output_type": "stream",
          "name": "stdout",
          "text": [
            "muttable list [1, 2, 3]\n",
            "Error modifying tuple: 'tuple' object does not support item assignment\n"
          ]
        }
      ]
    },
    {
      "cell_type": "code",
      "source": [
        "#6. Write a function to demonstrate the behavior of mutable and immutable arguments\n",
        "# not able to understand question"
      ],
      "metadata": {
        "id": "AZfL6dVlziSD"
      },
      "execution_count": null,
      "outputs": []
    },
    {
      "cell_type": "code",
      "source": [
        "#7. Question is repeated"
      ],
      "metadata": {
        "id": "K1DqSvcWz5Wk"
      },
      "execution_count": null,
      "outputs": []
    },
    {
      "cell_type": "code",
      "source": [
        "#8. Write a program to demonstrate the use of logical operators\n",
        "x=True\n",
        "y=True\n",
        "print(\"AND Operator:\",x and y)\n",
        "print(\"OR Operator:\",x or y)\n",
        "print(\"NOT Operator:\", not x )"
      ],
      "metadata": {
        "colab": {
          "base_uri": "https://localhost:8080/"
        },
        "id": "RB4Z_iBq0c4E",
        "outputId": "d3e78184-26fc-4c7f-dd8d-b3ed1e303017"
      },
      "execution_count": null,
      "outputs": [
        {
          "output_type": "stream",
          "name": "stdout",
          "text": [
            "AND Operator: True\n",
            "OR Operator: True\n",
            "NOT Operator: False\n"
          ]
        }
      ]
    },
    {
      "cell_type": "code",
      "source": [
        "#9. Write a Python program to convert user input from string to integer, float, and boolean types\n",
        "Convert=input(\"enter a value:\")\n",
        "print(\"Integer:\",int(Convert))\n",
        "print(\"Float:\",float(Convert))\n",
        "print(\"Bollean:\",bool(Convert))"
      ],
      "metadata": {
        "colab": {
          "base_uri": "https://localhost:8080/"
        },
        "id": "FzAsRkfi11z5",
        "outputId": "5a4584e8-905f-4b8c-e596-b0a627756405"
      },
      "execution_count": null,
      "outputs": [
        {
          "output_type": "stream",
          "name": "stdout",
          "text": [
            "enter a value:10\n",
            "Integer: 10\n",
            "Float: 10.0\n",
            "Bollean: True\n"
          ]
        }
      ]
    },
    {
      "cell_type": "code",
      "source": [
        "#10.Write code to demonstrate type casting with list elements\n",
        "list=[1,2,3,4,]\n",
        "print([str(item)for item in list])\n",
        "print([float(item)for item in list])\n",
        "\n"
      ],
      "metadata": {
        "colab": {
          "base_uri": "https://localhost:8080/"
        },
        "id": "Imfkn1zQ2_AU",
        "outputId": "d33de5c4-d74e-4759-df0c-c1cfab81f2b2"
      },
      "execution_count": null,
      "outputs": [
        {
          "output_type": "stream",
          "name": "stdout",
          "text": [
            "['1', '2', '3', '4']\n",
            "[1.0, 2.0, 3.0, 4.0]\n"
          ]
        }
      ]
    },
    {
      "cell_type": "code",
      "source": [
        "#11.Write a program that checks if a number is positive, negative, or zero\n",
        "number = int(input(\"please enter a number:\" ))\n",
        "if number>0:\n",
        "  print(\"number is positive\")\n",
        "elif number<0:\n",
        "  print(\"number is negative\")\n",
        "else:\n",
        "  print(\"number is zero\")"
      ],
      "metadata": {
        "colab": {
          "base_uri": "https://localhost:8080/"
        },
        "id": "4ZFjNd2E4AHL",
        "outputId": "e1e2e29f-3819-4a69-abde-f23224bfd5af"
      },
      "execution_count": null,
      "outputs": [
        {
          "output_type": "stream",
          "name": "stdout",
          "text": [
            "please enter a number:-5\n",
            "number is negative\n"
          ]
        }
      ]
    },
    {
      "cell_type": "code",
      "source": [
        "#12.Write a for loop to print numbers from 1 to 100\n",
        "for i in range(1,101):\n",
        "  print(i,end=\",\")"
      ],
      "metadata": {
        "colab": {
          "base_uri": "https://localhost:8080/"
        },
        "id": "SvfHOAnT44mP",
        "outputId": "849f87f8-987e-406e-a8ec-8e582839fd3e"
      },
      "execution_count": null,
      "outputs": [
        {
          "output_type": "stream",
          "name": "stdout",
          "text": [
            "1,2,3,4,5,6,7,8,9,10,11,12,13,14,15,16,17,18,19,20,21,22,23,24,25,26,27,28,29,30,31,32,33,34,35,36,37,38,39,40,41,42,43,44,45,46,47,48,49,50,51,52,53,54,55,56,57,58,59,60,61,62,63,64,65,66,67,68,69,70,71,72,73,74,75,76,77,78,79,80,81,82,83,84,85,86,87,88,89,90,91,92,93,94,95,96,97,98,99,100,"
          ]
        }
      ]
    },
    {
      "cell_type": "code",
      "source": [
        "#13.Write a Python program to find the sum of all even numbers between 1 and 500\n",
        "total = sum(i for i in range(1, 501) if i % 2 == 0)\n",
        "print(\"Sum of even numbers from 1 to 500:\", total)"
      ],
      "metadata": {
        "colab": {
          "base_uri": "https://localhost:8080/"
        },
        "id": "z-pgmuBP6dpl",
        "outputId": "195a8082-fd1c-4e4b-db31-79afabd69c2d"
      },
      "execution_count": null,
      "outputs": [
        {
          "output_type": "stream",
          "name": "stdout",
          "text": [
            "Sum of even numbers from 1 to 500: 62750\n"
          ]
        }
      ]
    },
    {
      "cell_type": "code",
      "source": [
        "#14.Write a program to reverse a string using a while loop\n",
        "#not able to build logic for this question\n"
      ],
      "metadata": {
        "id": "xThO5dCc0W-f"
      },
      "execution_count": null,
      "outputs": []
    },
    {
      "cell_type": "code",
      "source": [
        "#15.Write a Python program to calculate the factorial of a number provided by the user using a while loop\n",
        "factorial=1\n",
        "Number=int(input(\"please enter a number:\"))\n",
        "while(Number>=1):\n",
        " factorial=factorial*Number\n",
        " Number=Number-1\n",
        "print(\"factorial of given number is:\",factorial)"
      ],
      "metadata": {
        "colab": {
          "base_uri": "https://localhost:8080/"
        },
        "id": "BjsUIhZv0iI9",
        "outputId": "77d47249-cea9-4e9a-9226-85a0ad556792"
      },
      "execution_count": 9,
      "outputs": [
        {
          "output_type": "stream",
          "name": "stdout",
          "text": [
            "please enter a number:5\n",
            "factorial of given number is: 120\n"
          ]
        }
      ]
    }
  ]
}